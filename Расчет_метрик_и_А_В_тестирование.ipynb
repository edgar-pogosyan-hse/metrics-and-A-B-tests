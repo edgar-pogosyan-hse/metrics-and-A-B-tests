{
  "cells": [
    {
      "cell_type": "markdown",
      "metadata": {
        "id": "uvRv-o_TPsHq"
      },
      "source": [
        "# Проект: вариант 2\n",
        "## Задание 1. A/B–тестирование\n",
        "\n",
        "### Входные данные\n",
        "\n",
        "В качестве входных данных вы имеете 4 csv-файла:\n",
        "\n",
        "```groups.csv``` – файл с информацией о принадлежности пользователя к контрольной или экспериментальной группе (А – контроль, B – целевая группа)\n",
        "\n",
        "```groups_add.csv``` – дополнительный файл с пользователями, который вам прислали спустя 2 дня после передачи данных\n",
        "\n",
        "```active_studs.csv``` – файл с информацией о пользователях, которые зашли на платформу в дни проведения эксперимента.\n",
        "\n",
        "```checks.csv``` – файл с информацией об оплатах пользователей в дни проведения эксперимента.\n"
      ]
    },
    {
      "cell_type": "markdown",
      "metadata": {
        "id": "vsw-WhkYPsHs"
      },
      "source": [
        "## Импорт библиотек и загрузка данных"
      ]
    },
    {
      "cell_type": "code",
      "execution_count": null,
      "metadata": {
        "id": "8J2ozjbBPsHt"
      },
      "outputs": [],
      "source": [
        "import pandas as pd\n",
        "import matplotlib.pyplot as plt\n",
        "import seaborn as sns\n",
        "import numpy as np"
      ]
    },
    {
      "cell_type": "code",
      "execution_count": null,
      "metadata": {
        "id": "mUp5u4FfPsHu"
      },
      "outputs": [],
      "source": [
        "groups = pd.read_csv(\"https://getfile.dokpub.com/yandex/get/https://disk.yandex.ru/d/UhyYx41rTt3clQ\", sep=';')\n",
        "groups_add = pd.read_csv(\"https://getfile.dokpub.com/yandex/get/https://disk.yandex.ru/d/5Kxrz02m3IBUwQ\")\n",
        "active_studs = pd.read_csv(\"https://getfile.dokpub.com/yandex/get/https://disk.yandex.ru/d/Tbs44Bm6H_FwFQ\")\n",
        "checks = pd.read_csv(\"https://getfile.dokpub.com/yandex/get/https://disk.yandex.ru/d/pH1q-VqcxXjsVA\", sep=';')"
      ]
    },
    {
      "cell_type": "markdown",
      "metadata": {
        "id": "WWM40bjbPsHu"
      },
      "source": [
        "### Предварительно посмотрим на данные"
      ]
    },
    {
      "cell_type": "markdown",
      "metadata": {
        "id": "6H9hwwVMPsHu"
      },
      "source": [
        "Оценим размеры датасетов, какие типы данных по колонкам, есть ли пропуски"
      ]
    },
    {
      "cell_type": "code",
      "execution_count": null,
      "metadata": {
        "id": "txlu0wD6PsHu",
        "outputId": "0916528b-d894-45bb-f339-6416e60dbd0d"
      },
      "outputs": [
        {
          "name": "stdout",
          "output_type": "stream",
          "text": [
            "(74484, 2)\n",
            "\n",
            "<class 'pandas.core.frame.DataFrame'>\n",
            "RangeIndex: 74484 entries, 0 to 74483\n",
            "Data columns (total 2 columns):\n",
            " #   Column  Non-Null Count  Dtype \n",
            "---  ------  --------------  ----- \n",
            " 0   id      74484 non-null  int64 \n",
            " 1   grp     74484 non-null  object\n",
            "dtypes: int64(1), object(1)\n",
            "memory usage: 1.1+ MB\n",
            "None\n",
            "\n",
            "0\n",
            "\n",
            "(92, 2)\n",
            "\n",
            "<class 'pandas.core.frame.DataFrame'>\n",
            "RangeIndex: 92 entries, 0 to 91\n",
            "Data columns (total 2 columns):\n",
            " #   Column  Non-Null Count  Dtype \n",
            "---  ------  --------------  ----- \n",
            " 0   id      92 non-null     int64 \n",
            " 1   grp     92 non-null     object\n",
            "dtypes: int64(1), object(1)\n",
            "memory usage: 1.6+ KB\n",
            "None\n",
            "\n",
            "0\n",
            "\n",
            "(8341, 1)\n",
            "\n",
            "<class 'pandas.core.frame.DataFrame'>\n",
            "RangeIndex: 8341 entries, 0 to 8340\n",
            "Data columns (total 1 columns):\n",
            " #   Column      Non-Null Count  Dtype\n",
            "---  ------      --------------  -----\n",
            " 0   student_id  8341 non-null   int64\n",
            "dtypes: int64(1)\n",
            "memory usage: 65.3 KB\n",
            "None\n",
            "\n",
            "0\n",
            "\n",
            "(541, 2)\n",
            "\n",
            "<class 'pandas.core.frame.DataFrame'>\n",
            "RangeIndex: 541 entries, 0 to 540\n",
            "Data columns (total 2 columns):\n",
            " #   Column      Non-Null Count  Dtype  \n",
            "---  ------      --------------  -----  \n",
            " 0   student_id  541 non-null    int64  \n",
            " 1   rev         541 non-null    float64\n",
            "dtypes: float64(1), int64(1)\n",
            "memory usage: 8.6 KB\n",
            "None\n",
            "\n",
            "0\n",
            "\n"
          ]
        }
      ],
      "source": [
        "for i in [groups, groups_add, active_studs, checks]:\n",
        "    print(i.shape)\n",
        "    print('')\n",
        "    print(i.info())\n",
        "    print('')\n",
        "    print(i.isnull().sum().sum())\n",
        "    print('')"
      ]
    },
    {
      "cell_type": "code",
      "execution_count": null,
      "metadata": {
        "id": "oBd-YU5vPsHv",
        "outputId": "c319b416-0668-409f-deed-1a5eeb70b88d"
      },
      "outputs": [
        {
          "data": {
            "text/html": [
              "<div>\n",
              "<style scoped>\n",
              "    .dataframe tbody tr th:only-of-type {\n",
              "        vertical-align: middle;\n",
              "    }\n",
              "\n",
              "    .dataframe tbody tr th {\n",
              "        vertical-align: top;\n",
              "    }\n",
              "\n",
              "    .dataframe thead th {\n",
              "        text-align: right;\n",
              "    }\n",
              "</style>\n",
              "<table border=\"1\" class=\"dataframe\">\n",
              "  <thead>\n",
              "    <tr style=\"text-align: right;\">\n",
              "      <th></th>\n",
              "      <th>id</th>\n",
              "      <th>grp</th>\n",
              "    </tr>\n",
              "  </thead>\n",
              "  <tbody>\n",
              "    <tr>\n",
              "      <th>0</th>\n",
              "      <td>1489</td>\n",
              "      <td>B</td>\n",
              "    </tr>\n",
              "    <tr>\n",
              "      <th>1</th>\n",
              "      <td>1627</td>\n",
              "      <td>A</td>\n",
              "    </tr>\n",
              "    <tr>\n",
              "      <th>2</th>\n",
              "      <td>1768</td>\n",
              "      <td>B</td>\n",
              "    </tr>\n",
              "    <tr>\n",
              "      <th>3</th>\n",
              "      <td>1783</td>\n",
              "      <td>B</td>\n",
              "    </tr>\n",
              "    <tr>\n",
              "      <th>4</th>\n",
              "      <td>1794</td>\n",
              "      <td>A</td>\n",
              "    </tr>\n",
              "  </tbody>\n",
              "</table>\n",
              "</div>"
            ],
            "text/plain": [
              "     id grp\n",
              "0  1489   B\n",
              "1  1627   A\n",
              "2  1768   B\n",
              "3  1783   B\n",
              "4  1794   A"
            ]
          },
          "execution_count": 35,
          "metadata": {},
          "output_type": "execute_result"
        }
      ],
      "source": [
        "groups.head()"
      ]
    },
    {
      "cell_type": "code",
      "execution_count": null,
      "metadata": {
        "id": "LbjflZrKPsHv",
        "outputId": "20beef3e-b74a-4ce6-a909-f0d04e71b4d8"
      },
      "outputs": [
        {
          "data": {
            "text/html": [
              "<div>\n",
              "<style scoped>\n",
              "    .dataframe tbody tr th:only-of-type {\n",
              "        vertical-align: middle;\n",
              "    }\n",
              "\n",
              "    .dataframe tbody tr th {\n",
              "        vertical-align: top;\n",
              "    }\n",
              "\n",
              "    .dataframe thead th {\n",
              "        text-align: right;\n",
              "    }\n",
              "</style>\n",
              "<table border=\"1\" class=\"dataframe\">\n",
              "  <thead>\n",
              "    <tr style=\"text-align: right;\">\n",
              "      <th></th>\n",
              "      <th>id</th>\n",
              "      <th>grp</th>\n",
              "    </tr>\n",
              "  </thead>\n",
              "  <tbody>\n",
              "    <tr>\n",
              "      <th>0</th>\n",
              "      <td>5694584</td>\n",
              "      <td>B</td>\n",
              "    </tr>\n",
              "    <tr>\n",
              "      <th>1</th>\n",
              "      <td>5694830</td>\n",
              "      <td>B</td>\n",
              "    </tr>\n",
              "    <tr>\n",
              "      <th>2</th>\n",
              "      <td>5695057</td>\n",
              "      <td>B</td>\n",
              "    </tr>\n",
              "    <tr>\n",
              "      <th>3</th>\n",
              "      <td>5698872</td>\n",
              "      <td>B</td>\n",
              "    </tr>\n",
              "    <tr>\n",
              "      <th>4</th>\n",
              "      <td>5699067</td>\n",
              "      <td>B</td>\n",
              "    </tr>\n",
              "  </tbody>\n",
              "</table>\n",
              "</div>"
            ],
            "text/plain": [
              "        id grp\n",
              "0  5694584   B\n",
              "1  5694830   B\n",
              "2  5695057   B\n",
              "3  5698872   B\n",
              "4  5699067   B"
            ]
          },
          "execution_count": 9,
          "metadata": {},
          "output_type": "execute_result"
        }
      ],
      "source": [
        "groups_add.head()"
      ]
    },
    {
      "cell_type": "code",
      "execution_count": null,
      "metadata": {
        "id": "qopgYZV7PsHw",
        "outputId": "713c87d6-e334-40ad-94bf-fe09452546cb"
      },
      "outputs": [
        {
          "data": {
            "text/html": [
              "<div>\n",
              "<style scoped>\n",
              "    .dataframe tbody tr th:only-of-type {\n",
              "        vertical-align: middle;\n",
              "    }\n",
              "\n",
              "    .dataframe tbody tr th {\n",
              "        vertical-align: top;\n",
              "    }\n",
              "\n",
              "    .dataframe thead th {\n",
              "        text-align: right;\n",
              "    }\n",
              "</style>\n",
              "<table border=\"1\" class=\"dataframe\">\n",
              "  <thead>\n",
              "    <tr style=\"text-align: right;\">\n",
              "      <th></th>\n",
              "      <th>student_id</th>\n",
              "    </tr>\n",
              "  </thead>\n",
              "  <tbody>\n",
              "    <tr>\n",
              "      <th>0</th>\n",
              "      <td>581585</td>\n",
              "    </tr>\n",
              "    <tr>\n",
              "      <th>1</th>\n",
              "      <td>5723133</td>\n",
              "    </tr>\n",
              "    <tr>\n",
              "      <th>2</th>\n",
              "      <td>3276743</td>\n",
              "    </tr>\n",
              "    <tr>\n",
              "      <th>3</th>\n",
              "      <td>4238589</td>\n",
              "    </tr>\n",
              "    <tr>\n",
              "      <th>4</th>\n",
              "      <td>4475369</td>\n",
              "    </tr>\n",
              "  </tbody>\n",
              "</table>\n",
              "</div>"
            ],
            "text/plain": [
              "   student_id\n",
              "0      581585\n",
              "1     5723133\n",
              "2     3276743\n",
              "3     4238589\n",
              "4     4475369"
            ]
          },
          "execution_count": 44,
          "metadata": {},
          "output_type": "execute_result"
        }
      ],
      "source": [
        "active_studs.head()"
      ]
    },
    {
      "cell_type": "code",
      "execution_count": null,
      "metadata": {
        "id": "76wbRjvwPsHw",
        "outputId": "2225343b-8a99-46b9-a576-cce226a39397"
      },
      "outputs": [
        {
          "data": {
            "text/html": [
              "<div>\n",
              "<style scoped>\n",
              "    .dataframe tbody tr th:only-of-type {\n",
              "        vertical-align: middle;\n",
              "    }\n",
              "\n",
              "    .dataframe tbody tr th {\n",
              "        vertical-align: top;\n",
              "    }\n",
              "\n",
              "    .dataframe thead th {\n",
              "        text-align: right;\n",
              "    }\n",
              "</style>\n",
              "<table border=\"1\" class=\"dataframe\">\n",
              "  <thead>\n",
              "    <tr style=\"text-align: right;\">\n",
              "      <th></th>\n",
              "      <th>student_id</th>\n",
              "      <th>rev</th>\n",
              "    </tr>\n",
              "  </thead>\n",
              "  <tbody>\n",
              "    <tr>\n",
              "      <th>0</th>\n",
              "      <td>1627</td>\n",
              "      <td>990.0</td>\n",
              "    </tr>\n",
              "    <tr>\n",
              "      <th>1</th>\n",
              "      <td>3185</td>\n",
              "      <td>690.0</td>\n",
              "    </tr>\n",
              "    <tr>\n",
              "      <th>2</th>\n",
              "      <td>25973</td>\n",
              "      <td>690.0</td>\n",
              "    </tr>\n",
              "    <tr>\n",
              "      <th>3</th>\n",
              "      <td>26280</td>\n",
              "      <td>690.0</td>\n",
              "    </tr>\n",
              "    <tr>\n",
              "      <th>4</th>\n",
              "      <td>100300</td>\n",
              "      <td>990.0</td>\n",
              "    </tr>\n",
              "  </tbody>\n",
              "</table>\n",
              "</div>"
            ],
            "text/plain": [
              "   student_id    rev\n",
              "0        1627  990.0\n",
              "1        3185  690.0\n",
              "2       25973  690.0\n",
              "3       26280  690.0\n",
              "4      100300  990.0"
            ]
          },
          "execution_count": 11,
          "metadata": {},
          "output_type": "execute_result"
        }
      ],
      "source": [
        "checks.head()"
      ]
    },
    {
      "cell_type": "markdown",
      "metadata": {
        "id": "Ne3J9pThPsHw"
      },
      "source": [
        "Так как файл groups_add - является дополнительным к groups, то их можно сразу объединить и далее работать с общим файлом"
      ]
    },
    {
      "cell_type": "code",
      "execution_count": null,
      "metadata": {
        "id": "-eyFz6fZPsHw",
        "outputId": "bda1ea4e-d3f7-4ad0-d4a3-95fa07c53181"
      },
      "outputs": [
        {
          "data": {
            "text/plain": [
              "(74576, 2)"
            ]
          },
          "execution_count": 9,
          "metadata": {},
          "output_type": "execute_result"
        }
      ],
      "source": [
        "group = pd.concat([groups, groups_add])\n",
        "group.shape"
      ]
    },
    {
      "cell_type": "code",
      "execution_count": null,
      "metadata": {
        "id": "ZrV6K27APsHx",
        "outputId": "197ff29c-097e-485a-c802-4fce3343aece"
      },
      "outputs": [
        {
          "data": {
            "text/plain": [
              "(392, 2)"
            ]
          },
          "execution_count": 11,
          "metadata": {},
          "output_type": "execute_result"
        }
      ],
      "source": [
        "# Сделаем джоин по двум датасетам для отбора только тех пользователей, которые заходили на платформу в дни проведения эксперимента.\n",
        "active_checks = pd.merge(checks, active_studs, on='student_id', how='inner')\n",
        "active_checks.shape"
      ]
    },
    {
      "cell_type": "markdown",
      "metadata": {
        "id": "Clw4AbzePsHx"
      },
      "source": [
        "Аналогично сделаем с объединенным файлом group и active_studs, чтобы потом можно было объединить всё в один датасет"
      ]
    },
    {
      "cell_type": "code",
      "execution_count": null,
      "metadata": {
        "id": "n1z3T1eSPsHx",
        "outputId": "e7a49e3f-0fa2-44bf-fb63-c093fad0237f"
      },
      "outputs": [
        {
          "data": {
            "text/plain": [
              "(8341, 2)"
            ]
          },
          "execution_count": 13,
          "metadata": {},
          "output_type": "execute_result"
        }
      ],
      "source": [
        "#Делаем правый джоин, чтобы не потерять активных пользователей\n",
        "#student_id можно дропнуть, чтобы не дублировать колонки\n",
        "active_group = pd.merge(group, active_studs, left_on='id', right_on='student_id', how='right').drop(columns=['student_id'])\n",
        "active_group.shape"
      ]
    },
    {
      "cell_type": "code",
      "execution_count": null,
      "metadata": {
        "id": "NkLQNz2oPsHx",
        "outputId": "4518a8bf-1212-4e64-b055-b40fa291dcc4"
      },
      "outputs": [
        {
          "data": {
            "text/html": [
              "<div>\n",
              "<style scoped>\n",
              "    .dataframe tbody tr th:only-of-type {\n",
              "        vertical-align: middle;\n",
              "    }\n",
              "\n",
              "    .dataframe tbody tr th {\n",
              "        vertical-align: top;\n",
              "    }\n",
              "\n",
              "    .dataframe thead th {\n",
              "        text-align: right;\n",
              "    }\n",
              "</style>\n",
              "<table border=\"1\" class=\"dataframe\">\n",
              "  <thead>\n",
              "    <tr style=\"text-align: right;\">\n",
              "      <th></th>\n",
              "      <th>id</th>\n",
              "      <th>grp</th>\n",
              "    </tr>\n",
              "  </thead>\n",
              "  <tbody>\n",
              "    <tr>\n",
              "      <th>0</th>\n",
              "      <td>581585</td>\n",
              "      <td>A</td>\n",
              "    </tr>\n",
              "    <tr>\n",
              "      <th>1</th>\n",
              "      <td>5723133</td>\n",
              "      <td>A</td>\n",
              "    </tr>\n",
              "    <tr>\n",
              "      <th>2</th>\n",
              "      <td>3276743</td>\n",
              "      <td>B</td>\n",
              "    </tr>\n",
              "    <tr>\n",
              "      <th>3</th>\n",
              "      <td>4238589</td>\n",
              "      <td>A</td>\n",
              "    </tr>\n",
              "    <tr>\n",
              "      <th>4</th>\n",
              "      <td>4475369</td>\n",
              "      <td>B</td>\n",
              "    </tr>\n",
              "  </tbody>\n",
              "</table>\n",
              "</div>"
            ],
            "text/plain": [
              "        id grp\n",
              "0   581585   A\n",
              "1  5723133   A\n",
              "2  3276743   B\n",
              "3  4238589   A\n",
              "4  4475369   B"
            ]
          },
          "execution_count": 24,
          "metadata": {},
          "output_type": "execute_result"
        }
      ],
      "source": [
        "active_group.head()"
      ]
    },
    {
      "cell_type": "code",
      "execution_count": null,
      "metadata": {
        "id": "Q8IeGz1dPsHy",
        "outputId": "6460fd65-25ae-4957-f542-d854754fc112"
      },
      "outputs": [
        {
          "name": "stdout",
          "output_type": "stream",
          "text": [
            "id        0\n",
            "grp       0\n",
            "rev    7949\n",
            "dtype: int64\n",
            "\n"
          ]
        }
      ],
      "source": [
        "# Объединим всё вместе\n",
        "df_final = pd.merge(active_group, active_checks, left_on='id', right_on='student_id', how='left').drop(columns=['student_id'])\n",
        "print(df_final.isna().sum())\n",
        "print('')"
      ]
    },
    {
      "cell_type": "markdown",
      "metadata": {
        "id": "n8u8eMrkPsHy"
      },
      "source": [
        "Заметим, что в поле rev много пропущенных значений. Объясняется это тем, что данные пользователи просто не совершили покупок в дни эксперимента. Логично будет их вычеркнуть из нашего подготовленного датасета"
      ]
    },
    {
      "cell_type": "code",
      "execution_count": null,
      "metadata": {
        "id": "D_qvPCNXPsHy",
        "outputId": "90a215f0-d329-426d-c3f5-f7cf9956b63b"
      },
      "outputs": [
        {
          "data": {
            "text/html": [
              "<div>\n",
              "<style scoped>\n",
              "    .dataframe tbody tr th:only-of-type {\n",
              "        vertical-align: middle;\n",
              "    }\n",
              "\n",
              "    .dataframe tbody tr th {\n",
              "        vertical-align: top;\n",
              "    }\n",
              "\n",
              "    .dataframe thead th {\n",
              "        text-align: right;\n",
              "    }\n",
              "</style>\n",
              "<table border=\"1\" class=\"dataframe\">\n",
              "  <thead>\n",
              "    <tr style=\"text-align: right;\">\n",
              "      <th></th>\n",
              "      <th>id</th>\n",
              "      <th>grp</th>\n",
              "      <th>rev</th>\n",
              "    </tr>\n",
              "  </thead>\n",
              "  <tbody>\n",
              "    <tr>\n",
              "      <th>62</th>\n",
              "      <td>1184303</td>\n",
              "      <td>A</td>\n",
              "      <td>1530.0000</td>\n",
              "    </tr>\n",
              "    <tr>\n",
              "      <th>67</th>\n",
              "      <td>3354191</td>\n",
              "      <td>B</td>\n",
              "      <td>1900.0001</td>\n",
              "    </tr>\n",
              "    <tr>\n",
              "      <th>77</th>\n",
              "      <td>3278734</td>\n",
              "      <td>B</td>\n",
              "      <td>1900.0000</td>\n",
              "    </tr>\n",
              "    <tr>\n",
              "      <th>99</th>\n",
              "      <td>720651</td>\n",
              "      <td>A</td>\n",
              "      <td>1980.0000</td>\n",
              "    </tr>\n",
              "    <tr>\n",
              "      <th>193</th>\n",
              "      <td>1232221</td>\n",
              "      <td>B</td>\n",
              "      <td>1900.0000</td>\n",
              "    </tr>\n",
              "  </tbody>\n",
              "</table>\n",
              "</div>"
            ],
            "text/plain": [
              "          id grp        rev\n",
              "62   1184303   A  1530.0000\n",
              "67   3354191   B  1900.0001\n",
              "77   3278734   B  1900.0000\n",
              "99    720651   A  1980.0000\n",
              "193  1232221   B  1900.0000"
            ]
          },
          "execution_count": 17,
          "metadata": {},
          "output_type": "execute_result"
        }
      ],
      "source": [
        "df = df_final.query('rev.isna() == False')\n",
        "df.head()"
      ]
    },
    {
      "cell_type": "markdown",
      "metadata": {
        "id": "_Cow0Hl9PsHy"
      },
      "source": [
        "### Расчеты метрик и проверка статистических гипотез\n",
        "\n",
        "В ходе анализа были расмотрены следующие метрики: CR, ARPU, ARPPU, Средний чек.\n",
        "Выбор этих четырёх метрик позволяет:\n",
        "- Оценить эффективность новой механики с точки зрения вовлечённости (CR),\n",
        "- Понять её бизнес-ценность (ARPU, ARPPU),\n",
        "- Проверить, не ухудшилось ли качество платежей (средний чек).\n",
        "- Все метрики дополняют друг друга и дают целостную картину поведения пользователей в эксперименте."
      ]
    },
    {
      "cell_type": "code",
      "execution_count": null,
      "metadata": {
        "id": "Q_YCWfBiPsHy"
      },
      "outputs": [],
      "source": [
        "# Кол-во активных пользователей в каждой группе\n",
        "active_users = df_final.groupby('grp')['id'].nunique()\n",
        "\n",
        "# Кол-во платящих\n",
        "paying_users = df.groupby('grp')['id'].nunique()\n",
        "\n",
        "# Конверсия\n",
        "conversion = paying_users / active_users\n",
        "\n",
        "# ARPU (на всех активных)\n",
        "arpu = df.groupby('grp')['rev'].sum() / active_users\n",
        "\n",
        "# ARPPU (на платящих)\n",
        "arppu = df.groupby('grp')['rev'].sum() / paying_users\n",
        "\n",
        "# Средний чек (по всем платежам)\n",
        "mean_check = df.groupby('grp')['rev'].mean()"
      ]
    },
    {
      "cell_type": "code",
      "execution_count": null,
      "metadata": {
        "id": "ZWMkwabVPsHy",
        "outputId": "a209e6ba-a1aa-4ff4-c6ac-f2abc2fb1e66"
      },
      "outputs": [
        {
          "data": {
            "text/plain": [
              "grp\n",
              "A    1538\n",
              "B    6803\n",
              "Name: id, dtype: int64"
            ]
          },
          "execution_count": 21,
          "metadata": {},
          "output_type": "execute_result"
        }
      ],
      "source": [
        "active_users"
      ]
    },
    {
      "cell_type": "code",
      "execution_count": null,
      "metadata": {
        "id": "MOiEzdrWPsHz",
        "outputId": "7b3e60ae-279b-48f8-e85d-0a524fd318ae"
      },
      "outputs": [
        {
          "data": {
            "text/plain": [
              "grp\n",
              "A     78\n",
              "B    314\n",
              "Name: id, dtype: int64"
            ]
          },
          "execution_count": 23,
          "metadata": {},
          "output_type": "execute_result"
        }
      ],
      "source": [
        "paying_users"
      ]
    },
    {
      "cell_type": "code",
      "execution_count": null,
      "metadata": {
        "id": "HakCL82fPsHz",
        "outputId": "b75ab88d-1eb1-43e3-b9dd-ed46ba20986f"
      },
      "outputs": [
        {
          "data": {
            "text/plain": [
              "grp\n",
              "A    0.050715\n",
              "B    0.046156\n",
              "Name: id, dtype: float64"
            ]
          },
          "execution_count": 25,
          "metadata": {},
          "output_type": "execute_result"
        }
      ],
      "source": [
        "conversion"
      ]
    },
    {
      "cell_type": "code",
      "execution_count": null,
      "metadata": {
        "id": "zgUr4rYQPsHz",
        "outputId": "da70aac1-c988-4376-fa13-3cb55d33bb3f"
      },
      "outputs": [
        {
          "data": {
            "text/plain": [
              "grp\n",
              "A    47.347204\n",
              "B    58.058798\n",
              "dtype: float64"
            ]
          },
          "execution_count": 27,
          "metadata": {},
          "output_type": "execute_result"
        }
      ],
      "source": [
        "arpu"
      ]
    },
    {
      "cell_type": "code",
      "execution_count": null,
      "metadata": {
        "id": "vzkTRynoPsHz",
        "outputId": "214fc24c-afbd-485a-e5fc-50172f5a7041"
      },
      "outputs": [
        {
          "data": {
            "text/plain": [
              "grp\n",
              "A     933.589744\n",
              "B    1257.878992\n",
              "dtype: float64"
            ]
          },
          "execution_count": 29,
          "metadata": {},
          "output_type": "execute_result"
        }
      ],
      "source": [
        "arppu"
      ]
    },
    {
      "cell_type": "code",
      "execution_count": null,
      "metadata": {
        "id": "eA3wh57mPsHz",
        "outputId": "fb2fa510-5b9c-4b4a-fa24-50b8cc868888"
      },
      "outputs": [
        {
          "data": {
            "text/plain": [
              "grp\n",
              "A     933.589744\n",
              "B    1257.878992\n",
              "Name: rev, dtype: float64"
            ]
          },
          "execution_count": 31,
          "metadata": {},
          "output_type": "execute_result"
        }
      ],
      "source": [
        "mean_check"
      ]
    },
    {
      "cell_type": "markdown",
      "metadata": {
        "id": "qU-FRzzlPsHz"
      },
      "source": [
        "### Выводы по метрикам\n",
        "- Конверсия упала\n",
        "  \n",
        "В группе B меньше людей платят по сравнению с контрольной. Это негативный сигнал с точки зрения вовлечённости.\n",
        "\n",
        "- Доход на пользователя (ARPU) вырос\n",
        "\n",
        "Несмотря на меньшую конверсию, доход с одного активного пользователя вырос — вероятно, из-за роста суммы одной покупки.\n",
        "\n",
        "- Чек выше\n",
        "  \n",
        "Те, кто платит, тратят существенно больше — +35% в группе B."
      ]
    },
    {
      "cell_type": "markdown",
      "metadata": {
        "id": "jX1vhXBYPsHz"
      },
      "source": [
        "Далее проведем статистические тесты, чтобы понять:\n",
        "\n",
        "Является ли разница по CR статистически значимой? (z-тест для пропорций)\n",
        "\n",
        "Является ли разница по ARPU и среднему чеку значимой? (t-test или бутстрап)"
      ]
    },
    {
      "cell_type": "code",
      "execution_count": null,
      "metadata": {
        "id": "nABD3aoZPsH0",
        "outputId": "0a6891a6-052e-488a-86bd-d6ade59bffc0"
      },
      "outputs": [
        {
          "name": "stdout",
          "output_type": "stream",
          "text": [
            "P-value по конверсии: 0.4455\n"
          ]
        }
      ],
      "source": [
        "from statsmodels.stats.proportion import proportions_ztest\n",
        "\n",
        "z_stat, pval_conv = proportions_ztest(\n",
        "    count=[78, 314],\n",
        "    nobs=[1538, 6803]\n",
        ")\n",
        "print(f'P-value по конверсии: {pval_conv:.4f}')"
      ]
    },
    {
      "cell_type": "code",
      "execution_count": null,
      "metadata": {
        "id": "BjKPispKPsH0",
        "outputId": "0a4333ba-29af-49b3-e766-19869a1cdf01"
      },
      "outputs": [
        {
          "name": "stdout",
          "output_type": "stream",
          "text": [
            "P-value по среднему чеку: 0.0051\n"
          ]
        }
      ],
      "source": [
        "from scipy.stats import ttest_ind\n",
        "\n",
        "rev_a = df[df['grp'] == 'A']['rev']\n",
        "rev_b = df[df['grp'] == 'B']['rev']\n",
        "\n",
        "t_stat, pval_check = ttest_ind(rev_a, rev_b, equal_var=False)\n",
        "print(f'P-value по среднему чеку: {pval_check:.4f}')"
      ]
    },
    {
      "cell_type": "code",
      "execution_count": null,
      "metadata": {
        "id": "ecC3JfnsPsH0",
        "outputId": "41d9556a-bdd2-4f79-8933-ebed7b8f19c6"
      },
      "outputs": [
        {
          "name": "stdout",
          "output_type": "stream",
          "text": [
            "95% доверительный интервал по ARPU: [-6.03722936 26.50695932]\n"
          ]
        }
      ],
      "source": [
        "rev_a_all = df_final[df_final['grp'] == 'A']['rev'].fillna(0).values\n",
        "rev_b_all = df_final[df_final['grp'] == 'B']['rev'].fillna(0).values\n",
        "\n",
        "def bootstrap_diff(data1, data2, n_boot=10000):\n",
        "    np.random.seed(0)\n",
        "    diffs = []\n",
        "    for _ in range(n_boot):\n",
        "        s1 = np.random.choice(data1, size=len(data1), replace=True)\n",
        "        s2 = np.random.choice(data2, size=len(data2), replace=True)\n",
        "        diffs.append(np.mean(s2) - np.mean(s1))\n",
        "    return np.percentile(diffs, [2.5, 97.5])\n",
        "\n",
        "ci_arpu = bootstrap_diff(rev_a_all, rev_b_all)\n",
        "print(f'95% доверительный интервал по ARPU: {ci_arpu}')"
      ]
    },
    {
      "cell_type": "markdown",
      "metadata": {
        "id": "K6FURtObPsH0"
      },
      "source": [
        "### Выводы\n",
        "\n",
        "1. Конверсия в оплату упала, но статистически значимо не отличается → нельзя утверждать, что новая механика реально мешает платить.\n",
        "2. Средний чек вырос значимо → пользователи, которые платят, платят больше.\n",
        "3. ARPU не отличается значимо → совокупный доход с пользователя не гарантированно увеличивается.\n",
        "\n",
        "На основе текущих данных:\n",
        "- Основной плюс: значительное увеличение среднего чека;\n",
        "- Основной минус: конверсия немного ниже, но не значимо;\n",
        "- ARPU — как итоговая бизнес-метрика — не улучшилась значимо."
      ]
    },
    {
      "cell_type": "markdown",
      "metadata": {
        "id": "tww90HgWPsH0"
      },
      "source": [
        "По итогам эксперимента результаты получились неоднозначные, поэтому рекомендуется:\n",
        "- Запустить её в ограниченном сегменте — например, на 20–30% аудитории;\n",
        "- Собрать больше данных, чтобы повысить статистическую мощность тестов;\n",
        "- Или доработать механику, сохранив высокие чеки, но повысив CR.\n",
        "\n"
      ]
    },
    {
      "cell_type": "markdown",
      "metadata": {
        "id": "oEs2ffiYPsH0"
      },
      "source": [
        "## Задание 3. Python\n",
        "### 3.1 Задача\n",
        "\n",
        "Реализуйте функцию, которая будет автоматически подгружать информацию из дополнительного файла groups_add.csv (заголовки могут отличаться) и на основании дополнительных параметров пересчитывать метрики.\n",
        "\n",
        "Реализуйте функцию, которая будет строить графики по получаемым метрикам."
      ]
    },
    {
      "cell_type": "code",
      "execution_count": null,
      "metadata": {
        "id": "rKqVsDPcPsH0"
      },
      "outputs": [],
      "source": [
        "def recalculate_metrics(groups, groups_add_path, active_studs, checks):\n",
        "    # Загружаем groups_add с возможными другими названиями колонок\n",
        "    groups_add_raw = pd.read_csv(groups_add_path)\n",
        "\n",
        "    # Переименуем колонки, приведем к стандартному виду\n",
        "    groups_add_raw.columns = ['id', 'grp']\n",
        "\n",
        "    # Объединяем основную и дополнительную таблицу\n",
        "    all_groups = pd.concat([groups, groups_add_raw], ignore_index=True)\n",
        "\n",
        "    # Получаем только активных пользователей\n",
        "    active_checks = pd.merge(checks, active_studs, on='student_id', how='inner')\n",
        "    active_group = pd.merge(all_groups, active_studs, left_on='id', right_on='student_id', how='right').drop(columns='student_id')\n",
        "\n",
        "    df_final = pd.merge(active_group, active_checks, left_on='id', right_on='student_id', how='left').drop(columns='student_id')\n",
        "    df_paid = df_final.query('rev.notna()')\n",
        "\n",
        "    # Считаем метрики\n",
        "    active_users = active_group.groupby('grp')['id'].count()\n",
        "    paying_users = df_paid.groupby('grp')['id'].count()\n",
        "    conversion = (paying_users / active_users).fillna(0)\n",
        "\n",
        "    arpu = df_final.groupby('grp')['rev'].mean().fillna(0)\n",
        "    arppu = df_paid.groupby('grp')['rev'].mean()\n",
        "    mean_check = arppu.copy()  # если один чек на пользователя\n",
        "\n",
        "    metrics = pd.DataFrame({\n",
        "        'Active Users': active_users,\n",
        "        'Paying Users': paying_users,\n",
        "        'Conversion': conversion,\n",
        "        'ARPU': arpu,\n",
        "        'ARPPU': arppu,\n",
        "        'Mean Check': mean_check\n",
        "    })\n",
        "\n",
        "    return metrics.reset_index()"
      ]
    },
    {
      "cell_type": "code",
      "execution_count": null,
      "metadata": {
        "id": "fkj2hgWWPsH1",
        "outputId": "90372fb4-501e-403a-e4f7-9b1d92104703"
      },
      "outputs": [
        {
          "data": {
            "text/html": [
              "<div>\n",
              "<style scoped>\n",
              "    .dataframe tbody tr th:only-of-type {\n",
              "        vertical-align: middle;\n",
              "    }\n",
              "\n",
              "    .dataframe tbody tr th {\n",
              "        vertical-align: top;\n",
              "    }\n",
              "\n",
              "    .dataframe thead th {\n",
              "        text-align: right;\n",
              "    }\n",
              "</style>\n",
              "<table border=\"1\" class=\"dataframe\">\n",
              "  <thead>\n",
              "    <tr style=\"text-align: right;\">\n",
              "      <th></th>\n",
              "      <th>grp</th>\n",
              "      <th>Active Users</th>\n",
              "      <th>Paying Users</th>\n",
              "      <th>Conversion</th>\n",
              "      <th>ARPU</th>\n",
              "      <th>ARPPU</th>\n",
              "      <th>Mean Check</th>\n",
              "    </tr>\n",
              "  </thead>\n",
              "  <tbody>\n",
              "    <tr>\n",
              "      <th>0</th>\n",
              "      <td>A</td>\n",
              "      <td>1538</td>\n",
              "      <td>78</td>\n",
              "      <td>0.050715</td>\n",
              "      <td>933.589744</td>\n",
              "      <td>933.589744</td>\n",
              "      <td>933.589744</td>\n",
              "    </tr>\n",
              "    <tr>\n",
              "      <th>1</th>\n",
              "      <td>B</td>\n",
              "      <td>6803</td>\n",
              "      <td>314</td>\n",
              "      <td>0.046156</td>\n",
              "      <td>1257.878992</td>\n",
              "      <td>1257.878992</td>\n",
              "      <td>1257.878992</td>\n",
              "    </tr>\n",
              "  </tbody>\n",
              "</table>\n",
              "</div>"
            ],
            "text/plain": [
              "  grp  Active Users  Paying Users  Conversion         ARPU        ARPPU  \\\n",
              "0   A          1538            78    0.050715   933.589744   933.589744   \n",
              "1   B          6803           314    0.046156  1257.878992  1257.878992   \n",
              "\n",
              "    Mean Check  \n",
              "0   933.589744  \n",
              "1  1257.878992  "
            ]
          },
          "execution_count": 52,
          "metadata": {},
          "output_type": "execute_result"
        }
      ],
      "source": [
        "metrics = recalculate_metrics(groups, \"https://getfile.dokpub.com/yandex/get/https://disk.yandex.ru/d/5Kxrz02m3IBUwQ\", active_studs, checks)\n",
        "metrics"
      ]
    },
    {
      "cell_type": "code",
      "execution_count": null,
      "metadata": {
        "id": "1ILdTOi9PsH1"
      },
      "outputs": [],
      "source": [
        "def plot_metrics(metrics_df):\n",
        "    metrics = metrics_df.columns[1:]  # исключаем 'grp'\n",
        "    groups = metrics_df['grp'].unique()\n",
        "\n",
        "    for metric in metrics:\n",
        "        plt.figure(figsize=(6, 4))\n",
        "        sns.barplot(data=metrics_df, x='grp', y=metric, palette='Set2')\n",
        "\n",
        "        plt.title(f'{metric} по группам')\n",
        "        plt.xlabel('Группа')\n",
        "        plt.ylabel(metric)\n",
        "        plt.grid(axis='y', linestyle='--', alpha=0.5)\n",
        "        plt.tight_layout()\n",
        "        plt.show()"
      ]
    },
    {
      "cell_type": "code",
      "execution_count": null,
      "metadata": {
        "id": "Y1B_w_TNPsH1",
        "outputId": "74e1394e-30a2-4085-9bbe-fb9a03935d73"
      },
      "outputs": [
        {
          "name": "stderr",
          "output_type": "stream",
          "text": [
            "C:\\Users\\Эдгар\\AppData\\Local\\Temp\\ipykernel_3512\\3687053718.py:7: FutureWarning: \n",
            "\n",
            "Passing `palette` without assigning `hue` is deprecated and will be removed in v0.14.0. Assign the `x` variable to `hue` and set `legend=False` for the same effect.\n",
            "\n",
            "  sns.barplot(data=metrics_df, x='grp', y=metric, palette='Set2')\n"
          ]
        },
        {
          "data": {
            "image/png": "[encoded data removed]",
            "text/plain": [
              "<Figure size 600x400 with 1 Axes>"
            ]
          },
          "metadata": {},
          "output_type": "display_data"
        },
        {
          "name": "stderr",
          "output_type": "stream",
          "text": [
            "C:\\Users\\Эдгар\\AppData\\Local\\Temp\\ipykernel_3512\\3687053718.py:7: FutureWarning: \n",
            "\n",
            "Passing `palette` without assigning `hue` is deprecated and will be removed in v0.14.0. Assign the `x` variable to `hue` and set `legend=False` for the same effect.\n",
            "\n",
            "  sns.barplot(data=metrics_df, x='grp', y=metric, palette='Set2')\n"
          ]
        },
        {
          "data": {
            "image/png": "[encoded data removed]",
            "text/plain": [
              "<Figure size 600x400 with 1 Axes>"
            ]
          },
          "metadata": {},
          "output_type": "display_data"
        },
        {
          "name": "stderr",
          "output_type": "stream",
          "text": [
            "C:\\Users\\Эдгар\\AppData\\Local\\Temp\\ipykernel_3512\\3687053718.py:7: FutureWarning: \n",
            "\n",
            "Passing `palette` without assigning `hue` is deprecated and will be removed in v0.14.0. Assign the `x` variable to `hue` and set `legend=False` for the same effect.\n",
            "\n",
            "  sns.barplot(data=metrics_df, x='grp', y=metric, palette='Set2')\n"
          ]
        },
        {
          "data": {
            "image/png": "[encoded data removed]",
            "text/plain": [
              "<Figure size 600x400 with 1 Axes>"
            ]
          },
          "metadata": {},
          "output_type": "display_data"
        },
        {
          "name": "stderr",
          "output_type": "stream",
          "text": [
            "C:\\Users\\Эдгар\\AppData\\Local\\Temp\\ipykernel_3512\\3687053718.py:7: FutureWarning: \n",
            "\n",
            "Passing `palette` without assigning `hue` is deprecated and will be removed in v0.14.0. Assign the `x` variable to `hue` and set `legend=False` for the same effect.\n",
            "\n",
            "  sns.barplot(data=metrics_df, x='grp', y=metric, palette='Set2')\n"
          ]
        },
        {
          "data": {
            "image/png": "[encoded data removed]",
            "text/plain": [
              "<Figure size 600x400 with 1 Axes>"
            ]
          },
          "metadata": {},
          "output_type": "display_data"
        },
        {
          "name": "stderr",
          "output_type": "stream",
          "text": [
            "C:\\Users\\Эдгар\\AppData\\Local\\Temp\\ipykernel_3512\\3687053718.py:7: FutureWarning: \n",
            "\n",
            "Passing `palette` without assigning `hue` is deprecated and will be removed in v0.14.0. Assign the `x` variable to `hue` and set `legend=False` for the same effect.\n",
            "\n",
            "  sns.barplot(data=metrics_df, x='grp', y=metric, palette='Set2')\n"
          ]
        },
        {
          "data": {
            "image/png": "[encoded data removed]",
            "text/plain": [
              "<Figure size 600x400 with 1 Axes>"
            ]
          },
          "metadata": {},
          "output_type": "display_data"
        },
        {
          "name": "stderr",
          "output_type": "stream",
          "text": [
            "C:\\Users\\Эдгар\\AppData\\Local\\Temp\\ipykernel_3512\\3687053718.py:7: FutureWarning: \n",
            "\n",
            "Passing `palette` without assigning `hue` is deprecated and will be removed in v0.14.0. Assign the `x` variable to `hue` and set `legend=False` for the same effect.\n",
            "\n",
            "  sns.barplot(data=metrics_df, x='grp', y=metric, palette='Set2')\n"
          ]
        },
        {
          "data": {
            "image/png": "[encoded data removed]",
            "text/plain": [
              "<Figure size 600x400 with 1 Axes>"
            ]
          },
          "metadata": {},
          "output_type": "display_data"
        }
      ],
      "source": [
        "plot_metrics(metrics)"
      ]
    }
  ],
  "metadata": {
    "kernelspec": {
      "display_name": "Python 3 (ipykernel)",
      "language": "python",
      "name": "python3"
    },
    "language_info": {
      "codemirror_mode": {
        "name": "ipython",
        "version": 3
      },
      "file_extension": ".py",
      "mimetype": "text/x-python",
      "name": "python",
      "nbconvert_exporter": "python",
      "pygments_lexer": "ipython3",
      "version": "3.12.4"
    },
    "colab": {
      "provenance": []
    }
  },
  "nbformat": 4,
  "nbformat_minor": 0
}